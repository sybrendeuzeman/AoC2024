{
 "cells": [
  {
   "cell_type": "markdown",
   "metadata": {},
   "source": [
    "Connected to Python 3.13.0"
   ]
  },
  {
   "cell_type": "code",
   "execution_count": null,
   "id": "b624fd20-a7bd-4f39-8583-0518a5ea2ade",
   "metadata": {},
   "outputs": [],
   "source": [
    "import numpy as np\n",
    "\n",
    "with open('input_test.txt') as file:\n",
    "    input = file.read()"
   ]
  },
  {
   "cell_type": "code",
   "execution_count": null,
   "metadata": {},
   "outputs": [
    {
     "data": {
      "text/plain": [
       "'2333133121414131402'"
      ]
     },
     "execution_count": 2,
     "metadata": {},
     "output_type": "execute_result"
    }
   ],
   "source": [
    "input"
   ]
  },
  {
   "cell_type": "code",
   "execution_count": null,
   "id": "0fde9834-7724-4109-a7c3-2495ac2a9c17",
   "metadata": {},
   "outputs": [],
   "source": [
    "mem = np.empty([1])"
   ]
  },
  {
   "cell_type": "code",
   "execution_count": null,
   "metadata": {},
   "outputs": [
    {
     "data": {
      "text/plain": [
       "array([0.0078125])"
      ]
     },
     "execution_count": 4,
     "metadata": {},
     "output_type": "execute_result"
    }
   ],
   "source": [
    "mem"
   ]
  },
  {
   "cell_type": "code",
   "execution_count": null,
   "id": "55750252-8bb3-4a64-b2ad-1627c54569d0",
   "metadata": {},
   "outputs": [
    {
     "ename": "TypeError",
     "evalue": "empty() missing required argument 'shape' (pos 0)",
     "output_type": "error",
     "traceback": [
      "\u001b[1;31m---------------------------------------------------------------------------\u001b[0m",
      "\u001b[1;31mTypeError\u001b[0m                                 Traceback (most recent call last)",
      "File \u001b[1;32mc:\\Users\\DEUS0104\\OneDrive - Tweede Kamer der Staten-Generaal\\Dataprojecten\\AoC2024\\9\\puzzle_9.py:1\u001b[0m\n\u001b[1;32m----> 1\u001b[0m mem \u001b[39m=\u001b[39m np\u001b[39m.\u001b[39;49mempty()\n",
      "\u001b[1;31mTypeError\u001b[0m: empty() missing required argument 'shape' (pos 0)"
     ]
    }
   ],
   "source": [
    "mem = np.empty()"
   ]
  },
  {
   "cell_type": "code",
   "execution_count": null,
   "id": "0e3cb353-8f4c-499f-8275-c38859d0b8ad",
   "metadata": {},
   "outputs": [],
   "source": [
    "mem = np.empty(1)"
   ]
  },
  {
   "cell_type": "code",
   "execution_count": null,
   "metadata": {},
   "outputs": [
    {
     "data": {
      "text/plain": [
       "array([0.0078125])"
      ]
     },
     "execution_count": 7,
     "metadata": {},
     "output_type": "execute_result"
    }
   ],
   "source": [
    "mem"
   ]
  },
  {
   "cell_type": "code",
   "execution_count": null,
   "id": "17cf0838-1de8-4dd4-83e0-c7caa1d717bc",
   "metadata": {},
   "outputs": [],
   "source": [
    "mem = np.empty(1 ,dtype=int)"
   ]
  },
  {
   "cell_type": "code",
   "execution_count": null,
   "metadata": {},
   "outputs": [
    {
     "data": {
      "text/plain": [
       "array([4575657222473777152])"
      ]
     },
     "execution_count": 9,
     "metadata": {},
     "output_type": "execute_result"
    }
   ],
   "source": [
    "mem"
   ]
  },
  {
   "cell_type": "code",
   "execution_count": null,
   "metadata": {},
   "outputs": [
    {
     "ename": "AttributeError",
     "evalue": "'numpy.ndarray' object has no attribute 'append'",
     "output_type": "error",
     "traceback": [
      "\u001b[1;31m---------------------------------------------------------------------------\u001b[0m",
      "\u001b[1;31mAttributeError\u001b[0m                            Traceback (most recent call last)",
      "Cell \u001b[1;32mIn[10], line 1\u001b[0m\n\u001b[1;32m----> 1\u001b[0m mem\u001b[39m.\u001b[39;49mappend(\u001b[39m1\u001b[39m)\n",
      "\u001b[1;31mAttributeError\u001b[0m: 'numpy.ndarray' object has no attribute 'append'"
     ]
    }
   ],
   "source": [
    "mem.append(1)"
   ]
  },
  {
   "cell_type": "code",
   "execution_count": null,
   "metadata": {},
   "outputs": [
    {
     "data": {
      "text/plain": [
       "array([4575657222473777152,                   1])"
      ]
     },
     "execution_count": 11,
     "metadata": {},
     "output_type": "execute_result"
    }
   ],
   "source": [
    "np.append(mem, [1])"
   ]
  },
  {
   "cell_type": "code",
   "execution_count": null,
   "id": "34c27dff-eb43-4483-94cf-7be9e81cac1c",
   "metadata": {},
   "outputs": [],
   "source": [
    "mem = np.array([])"
   ]
  },
  {
   "cell_type": "code",
   "execution_count": null,
   "metadata": {},
   "outputs": [
    {
     "data": {
      "text/plain": [
       "array([], dtype=float64)"
      ]
     },
     "execution_count": 13,
     "metadata": {},
     "output_type": "execute_result"
    }
   ],
   "source": [
    "mem"
   ]
  },
  {
   "cell_type": "code",
   "execution_count": null,
   "metadata": {},
   "outputs": [
    {
     "data": {
      "text/plain": [
       "array([1.])"
      ]
     },
     "execution_count": 14,
     "metadata": {},
     "output_type": "execute_result"
    }
   ],
   "source": [
    "np.append(mem, [1])"
   ]
  },
  {
   "cell_type": "code",
   "execution_count": null,
   "id": "f209d1bf-c7a9-448a-a8b0-763bba4b23cd",
   "metadata": {},
   "outputs": [],
   "source": [
    "mem = np.array([], dtype=int)"
   ]
  },
  {
   "cell_type": "code",
   "execution_count": null,
   "metadata": {},
   "outputs": [
    {
     "data": {
      "text/plain": [
       "array([1])"
      ]
     },
     "execution_count": 16,
     "metadata": {},
     "output_type": "execute_result"
    }
   ],
   "source": [
    "np.append(mem, [1])"
   ]
  },
  {
   "cell_type": "code",
   "execution_count": null,
   "metadata": {},
   "outputs": [
    {
     "data": {
      "text/plain": [
       "array([1, 1])"
      ]
     },
     "execution_count": 17,
     "metadata": {},
     "output_type": "execute_result"
    }
   ],
   "source": [
    "np.repeat(1, 2)"
   ]
  },
  {
   "cell_type": "code",
   "execution_count": null,
   "metadata": {},
   "outputs": [
    {
     "data": {
      "text/plain": [
       "0"
      ]
     },
     "execution_count": 18,
     "metadata": {},
     "output_type": "execute_result"
    }
   ],
   "source": [
    "1//2"
   ]
  },
  {
   "cell_type": "code",
   "execution_count": null,
   "metadata": {},
   "outputs": [
    {
     "data": {
      "text/plain": [
       "1"
      ]
     },
     "execution_count": 19,
     "metadata": {},
     "output_type": "execute_result"
    }
   ],
   "source": [
    "3//2"
   ]
  },
  {
   "cell_type": "code",
   "execution_count": null,
   "metadata": {},
   "outputs": [
    {
     "data": {
      "text/plain": [
       "-1"
      ]
     },
     "execution_count": 20,
     "metadata": {},
     "output_type": "execute_result"
    }
   ],
   "source": [
    "(1 - 3 % 2) * (3//2) + (3%2) * -1"
   ]
  },
  {
   "cell_type": "code",
   "execution_count": null,
   "metadata": {},
   "outputs": [
    {
     "data": {
      "text/plain": [
       "1"
      ]
     },
     "execution_count": 21,
     "metadata": {},
     "output_type": "execute_result"
    }
   ],
   "source": [
    "(3 % 2) * (3//2) + (1-3%2) * -1"
   ]
  },
  {
   "cell_type": "code",
   "execution_count": null,
   "id": "796a99e7-a3c6-4438-bc98-7a14b6c477db",
   "metadata": {},
   "outputs": [
    {
     "ename": "IndexError",
     "evalue": "index 0 is out of bounds for axis 0 with size 0",
     "output_type": "error",
     "traceback": [
      "\u001b[1;31m---------------------------------------------------------------------------\u001b[0m",
      "\u001b[1;31mIndexError\u001b[0m                                Traceback (most recent call last)",
      "File \u001b[1;32mc:\\Users\\DEUS0104\\OneDrive - Tweede Kamer der Staten-Generaal\\Dataprojecten\\AoC2024\\9\\puzzle_9.py:8\u001b[0m\n\u001b[0;32m      6\u001b[0m mem \u001b[39m=\u001b[39m np\u001b[39m.\u001b[39marray([], dtype\u001b[39m=\u001b[39m\u001b[39mint\u001b[39m)\n\u001b[0;32m      7\u001b[0m \u001b[39mfor\u001b[39;00m i \u001b[39min\u001b[39;00m \u001b[39mrange\u001b[39m(\u001b[39mlen\u001b[39m(\u001b[39minput\u001b[39m)):\n\u001b[1;32m----> 8\u001b[0m     mem\u001b[39m.\u001b[39mrepeat((\u001b[39m3\u001b[39m \u001b[39m%\u001b[39m \u001b[39m2\u001b[39m) \u001b[39m*\u001b[39m (\u001b[39m3\u001b[39m\u001b[39m/\u001b[39m\u001b[39m/\u001b[39m\u001b[39m2\u001b[39m) \u001b[39m+\u001b[39m (\u001b[39m1\u001b[39m\u001b[39m-\u001b[39m\u001b[39m3\u001b[39m\u001b[39m%\u001b[39m\u001b[39m2\u001b[39m) \u001b[39m*\u001b[39m \u001b[39m-\u001b[39m\u001b[39m1\u001b[39m, mem[i])\n",
      "\u001b[1;31mIndexError\u001b[0m: index 0 is out of bounds for axis 0 with size 0"
     ]
    }
   ],
   "source": [
    "import numpy as np\n",
    "\n",
    "with open('input_test.txt') as file:\n",
    "    input = file.read()\n",
    "\n",
    "mem = np.array([], dtype=int)\n",
    "for i in range(len(input)):\n",
    "    mem.repeat((3 % 2) * (3//2) + (1-3%2) * -1, mem[i])"
   ]
  },
  {
   "cell_type": "code",
   "execution_count": null,
   "id": "f1fa0b76-7a6d-416b-b65c-24d8ae747d95",
   "metadata": {},
   "outputs": [
    {
     "ename": "IndexError",
     "evalue": "index 0 is out of bounds for axis 0 with size 0",
     "output_type": "error",
     "traceback": [
      "\u001b[1;31m---------------------------------------------------------------------------\u001b[0m",
      "\u001b[1;31mIndexError\u001b[0m                                Traceback (most recent call last)",
      "File \u001b[1;32mc:\\Users\\DEUS0104\\OneDrive - Tweede Kamer der Staten-Generaal\\Dataprojecten\\AoC2024\\9\\puzzle_9.py:3\u001b[0m\n\u001b[0;32m      1\u001b[0m mem \u001b[39m=\u001b[39m np\u001b[39m.\u001b[39marray([], dtype\u001b[39m=\u001b[39m\u001b[39mint\u001b[39m)\n\u001b[0;32m      2\u001b[0m \u001b[39mfor\u001b[39;00m i \u001b[39min\u001b[39;00m \u001b[39mrange\u001b[39m(\u001b[39mlen\u001b[39m(\u001b[39minput\u001b[39m)):\n\u001b[1;32m----> 3\u001b[0m     mem\u001b[39m.\u001b[39mrepeat((\u001b[39m3\u001b[39m \u001b[39m%\u001b[39m \u001b[39m2\u001b[39m) \u001b[39m*\u001b[39m (\u001b[39m3\u001b[39m\u001b[39m/\u001b[39m\u001b[39m/\u001b[39m\u001b[39m2\u001b[39m) \u001b[39m+\u001b[39m (\u001b[39m1\u001b[39m\u001b[39m-\u001b[39m\u001b[39m3\u001b[39m\u001b[39m%\u001b[39m\u001b[39m2\u001b[39m) \u001b[39m*\u001b[39m \u001b[39m-\u001b[39m\u001b[39m1\u001b[39m, mem[i], axis\u001b[39m=\u001b[39m\u001b[39m0\u001b[39m)\n",
      "\u001b[1;31mIndexError\u001b[0m: index 0 is out of bounds for axis 0 with size 0"
     ]
    }
   ],
   "source": [
    "mem = np.array([], dtype=int)\n",
    "for i in range(len(input)):\n",
    "    mem.repeat((3 % 2) * (3//2) + (1-3%2) * -1, mem[i], axis=0)"
   ]
  },
  {
   "cell_type": "code",
   "execution_count": null,
   "id": "3ca050b5-f0fb-40b9-b7b0-b42bf97b8e11",
   "metadata": {},
   "outputs": [
    {
     "ename": "TypeError",
     "evalue": "'builtin_function_or_method' object is not subscriptable",
     "output_type": "error",
     "traceback": [
      "\u001b[1;31m---------------------------------------------------------------------------\u001b[0m",
      "\u001b[1;31mTypeError\u001b[0m                                 Traceback (most recent call last)",
      "File \u001b[1;32mc:\\Users\\DEUS0104\\OneDrive - Tweede Kamer der Staten-Generaal\\Dataprojecten\\AoC2024\\9\\puzzle_9.py:3\u001b[0m\n\u001b[0;32m      1\u001b[0m mem \u001b[39m=\u001b[39m np\u001b[39m.\u001b[39marray([], dtype\u001b[39m=\u001b[39m\u001b[39mint\u001b[39m)\n\u001b[0;32m      2\u001b[0m \u001b[39mfor\u001b[39;00m i \u001b[39min\u001b[39;00m \u001b[39mrange\u001b[39m(\u001b[39mlen\u001b[39m(\u001b[39minput\u001b[39m)):\n\u001b[1;32m----> 3\u001b[0m     np\u001b[39m.\u001b[39mappend(mem, np\u001b[39m.\u001b[39mrepeat(np\u001b[39m.\u001b[39;49marray[(\u001b[39m3\u001b[39;49m \u001b[39m%\u001b[39;49m \u001b[39m2\u001b[39;49m) \u001b[39m*\u001b[39;49m (\u001b[39m3\u001b[39;49m\u001b[39m/\u001b[39;49m\u001b[39m/\u001b[39;49m\u001b[39m2\u001b[39;49m) \u001b[39m+\u001b[39;49m (\u001b[39m1\u001b[39;49m\u001b[39m-\u001b[39;49m\u001b[39m3\u001b[39;49m\u001b[39m%\u001b[39;49m\u001b[39m2\u001b[39;49m) \u001b[39m*\u001b[39;49m \u001b[39m-\u001b[39;49m\u001b[39m1\u001b[39;49m], mem[i], axis\u001b[39m=\u001b[39m\u001b[39m0\u001b[39m))\n",
      "\u001b[1;31mTypeError\u001b[0m: 'builtin_function_or_method' object is not subscriptable"
     ]
    }
   ],
   "source": [
    "mem = np.array([], dtype=int)\n",
    "for i in range(len(input)):\n",
    "    np.append(mem, np.repeat(np.array[(3 % 2) * (3//2) + (1-3%2) * -1], mem[i], axis=0))"
   ]
  },
  {
   "cell_type": "code",
   "execution_count": null,
   "id": "69f1bd28-89f6-4def-a0c9-c6e39bbea3e3",
   "metadata": {},
   "outputs": [
    {
     "ename": "TypeError",
     "evalue": "'builtin_function_or_method' object is not subscriptable",
     "output_type": "error",
     "traceback": [
      "\u001b[1;31m---------------------------------------------------------------------------\u001b[0m",
      "\u001b[1;31mTypeError\u001b[0m                                 Traceback (most recent call last)",
      "File \u001b[1;32mc:\\Users\\DEUS0104\\OneDrive - Tweede Kamer der Staten-Generaal\\Dataprojecten\\AoC2024\\9\\puzzle_9.py:3\u001b[0m\n\u001b[0;32m      1\u001b[0m mem \u001b[39m=\u001b[39m np\u001b[39m.\u001b[39marray([], dtype\u001b[39m=\u001b[39m\u001b[39mint\u001b[39m)\n\u001b[0;32m      2\u001b[0m \u001b[39mfor\u001b[39;00m i \u001b[39min\u001b[39;00m \u001b[39mrange\u001b[39m(\u001b[39mlen\u001b[39m(\u001b[39minput\u001b[39m)):\n\u001b[1;32m----> 3\u001b[0m     np\u001b[39m.\u001b[39mappend(mem, np\u001b[39m.\u001b[39mrepeat(np\u001b[39m.\u001b[39;49marray[(\u001b[39m3\u001b[39;49m \u001b[39m%\u001b[39;49m \u001b[39m2\u001b[39;49m) \u001b[39m*\u001b[39;49m (\u001b[39m3\u001b[39;49m\u001b[39m/\u001b[39;49m\u001b[39m/\u001b[39;49m\u001b[39m2\u001b[39;49m) \u001b[39m+\u001b[39;49m (\u001b[39m1\u001b[39;49m\u001b[39m-\u001b[39;49m\u001b[39m3\u001b[39;49m\u001b[39m%\u001b[39;49m\u001b[39m2\u001b[39;49m) \u001b[39m*\u001b[39;49m \u001b[39m-\u001b[39;49m\u001b[39m1\u001b[39;49m], mem[i]))\n",
      "\u001b[1;31mTypeError\u001b[0m: 'builtin_function_or_method' object is not subscriptable"
     ]
    }
   ],
   "source": [
    "mem = np.array([], dtype=int)\n",
    "for i in range(len(input)):\n",
    "    np.append(mem, np.repeat(np.array[(3 % 2) * (3//2) + (1-3%2) * -1], mem[i]))"
   ]
  },
  {
   "cell_type": "code",
   "execution_count": null,
   "metadata": {},
   "outputs": [
    {
     "ename": "IndexError",
     "evalue": "index 0 is out of bounds for axis 0 with size 0",
     "output_type": "error",
     "traceback": [
      "\u001b[1;31m---------------------------------------------------------------------------\u001b[0m",
      "\u001b[1;31mIndexError\u001b[0m                                Traceback (most recent call last)",
      "Cell \u001b[1;32mIn[26], line 1\u001b[0m\n\u001b[1;32m----> 1\u001b[0m np\u001b[39m.\u001b[39mrepeat((\u001b[39m3\u001b[39m \u001b[39m%\u001b[39m \u001b[39m2\u001b[39m) \u001b[39m*\u001b[39m (\u001b[39m3\u001b[39m\u001b[39m/\u001b[39m\u001b[39m/\u001b[39m\u001b[39m2\u001b[39m) \u001b[39m+\u001b[39m (\u001b[39m1\u001b[39m\u001b[39m-\u001b[39m\u001b[39m3\u001b[39m\u001b[39m%\u001b[39m\u001b[39m2\u001b[39m) \u001b[39m*\u001b[39m \u001b[39m-\u001b[39m\u001b[39m1\u001b[39m, mem[i])\n",
      "\u001b[1;31mIndexError\u001b[0m: index 0 is out of bounds for axis 0 with size 0"
     ]
    }
   ],
   "source": [
    "np.repeat((3 % 2) * (3//2) + (1-3%2) * -1, mem[i])"
   ]
  },
  {
   "cell_type": "code",
   "execution_count": null,
   "metadata": {},
   "outputs": [],
   "source": [
    "i =2"
   ]
  },
  {
   "cell_type": "code",
   "execution_count": null,
   "metadata": {},
   "outputs": [
    {
     "ename": "IndexError",
     "evalue": "index 2 is out of bounds for axis 0 with size 0",
     "output_type": "error",
     "traceback": [
      "\u001b[1;31m---------------------------------------------------------------------------\u001b[0m",
      "\u001b[1;31mIndexError\u001b[0m                                Traceback (most recent call last)",
      "Cell \u001b[1;32mIn[28], line 1\u001b[0m\n\u001b[1;32m----> 1\u001b[0m np\u001b[39m.\u001b[39mrepeat((i \u001b[39m%\u001b[39m \u001b[39m2\u001b[39m) \u001b[39m*\u001b[39m (i\u001b[39m/\u001b[39m\u001b[39m/\u001b[39m\u001b[39m2\u001b[39m) \u001b[39m+\u001b[39m (\u001b[39m1\u001b[39m\u001b[39m-\u001b[39mi\u001b[39m%\u001b[39m\u001b[39m2\u001b[39m) \u001b[39m*\u001b[39m \u001b[39m-\u001b[39m\u001b[39m1\u001b[39m, mem[i])\n",
      "\u001b[1;31mIndexError\u001b[0m: index 2 is out of bounds for axis 0 with size 0"
     ]
    }
   ],
   "source": [
    "np.repeat((i % 2) * (i//2) + (1-i%2) * -1, mem[i])"
   ]
  }
 ],
 "metadata": {
  "kernelspec": {
   "display_name": "Python 3",
   "language": "python",
   "name": "python3"
  },
  "language_info": {
   "codemirror_mode": {
    "name": "ipython",
    "version": 3
   },
   "file_extension": ".py",
   "mimetype": "text/x-python",
   "name": "python",
   "nbconvert_exporter": "python",
   "pygments_lexer": "ipython3",
   "version": "3.13.0"
  }
 },
 "nbformat": 4,
 "nbformat_minor": 2
}
